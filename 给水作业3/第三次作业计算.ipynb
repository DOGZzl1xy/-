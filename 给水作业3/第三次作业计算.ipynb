{
 "cells": [
  {
   "cell_type": "code",
   "execution_count": 11,
   "metadata": {},
   "outputs": [
    {
     "name": "stdout",
     "output_type": "stream",
     "text": [
      "每条管道的水头损失:\n",
      "管道 5-6: 2.91 米\n",
      "管道 6-3: 1.95 米\n",
      "管道 3-2: -3.18 米\n",
      "管道 2-5: -1.39 米\n",
      "总水头损失: 0.28 米\n",
      "调整流量 dq: -0.12 L/s\n"
     ]
    }
   ],
   "source": [
    "# 作业3：使用时修改代码中loops_info中环的信息，('节点编号',管段长度,管径)，单位均为m\n",
    "\n",
    "def water_head_loss(q, l, D):\n",
    "    \"\"\"\n",
    "    计算水头损失\n",
    "    :param q: 流量 (m^3/s)\n",
    "    :param l: 管长 (m)\n",
    "    :param D: 管径 (m)\n",
    "    :return: 水头损失 (m)\n",
    "    \"\"\"\n",
    "    \n",
    "    return 10.67 * q**1.852 * l / (100**1.852 * D**4.87)\n",
    "\n",
    "def pipe_resistance(l, D):\n",
    "    \"\"\"\n",
    "    计算管道阻力\n",
    "    :param l: 管长 (m)\n",
    "    :param D: 管径 (m)\n",
    "    :return: 管道阻力\n",
    "    \"\"\"\n",
    "    return 10.67 * l / (100**1.852 * D**4.87)\n",
    "\n",
    "# 环1和环2的基本信息\n",
    "loops_info = {\n",
    "    1: [('4-5', 756, 0.3), ('5-2', 820, 0.25), ('2-1', 756, 0.1), ('1-4', 820, 0.5)],\n",
    "    2: [('5-6', 756, 0.2), ('6-3', 820, 0.1), ('3-2', 756, 0.15), ('2-5', 820, 0.25)]\n",
    "}\n",
    "\n",
    "# 获取用户输入\n",
    "loop_number = int(input(\"请输入计算的环编号 (1 或 2): \"))\n",
    "flows = input(\"请顺时针输入各个管道的流量 (L/s)，使用逗号分隔: \").split(',')\n",
    "signs = input(\"请按顺序输入四条管道水头损失的正负，1表示正，0表示负，使用逗号分隔: \").split(',')\n",
    "\n",
    "# 确保输入流量与环中管道数量匹配\n",
    "assert len(flows) == len(loops_info[loop_number]), \"流量输入数量与管道数量不匹配。\"\n",
    "assert len(signs) == len(loops_info[loop_number]), \"水头损失正负号数量与管道数量不匹配。\"\n",
    "\n",
    "# 计算并输出每条管道的水头损失，以及总的水头损失\n",
    "total_loss = 0\n",
    "resistances = []\n",
    "print(\"每条管道的水头损失:\")\n",
    "for (pipe, l, D), q_l_s, sign in zip(loops_info[loop_number], map(float, flows), map(int, signs)):\n",
    "    q_m3_s = q_l_s / 1000  # 将流量从L/s转换为m^3/s\n",
    "    loss = water_head_loss(q_m3_s, l, D)\n",
    "    if sign == 0:\n",
    "        loss = -loss\n",
    "    total_loss += loss\n",
    "    resistance = pipe_resistance(l, D)\n",
    "    resistances.append(abs(resistance * abs(q_m3_s)**0.852))\n",
    "    print(f\"管道 {pipe}: {loss:.2f} 米\")\n",
    "\n",
    "print(f\"总水头损失: {total_loss:.2f} 米\")\n",
    "\n",
    "# 计算调整流量 dq\n",
    "sum_resistances = sum(resistances)\n",
    "dq = -total_loss / (1.852 * sum_resistances)\n",
    "dq_l_s = dq * 1000  # 将m^3/s转换为L/s\n",
    "print(f\"调整流量 dq: {dq_l_s:.2f} L/s\")"
   ]
  },
  {
   "cell_type": "code",
   "execution_count": 12,
   "metadata": {},
   "outputs": [
    {
     "data": {
      "text/plain": [
       "0.6377273877521138"
      ]
     },
     "execution_count": 12,
     "metadata": {},
     "output_type": "execute_result"
    }
   ],
   "source": [
    "10.67 * 0.0026**1.852 * 250 / (100**1.852 * 0.1**4.87)"
   ]
  },
  {
   "cell_type": "code",
   "execution_count": 3,
   "metadata": {},
   "outputs": [
    {
     "name": "stdout",
     "output_type": "stream",
     "text": [
      "每条管道的水头损失:\n",
      "管道 5-6: 2.57 米\n",
      "管道 6-3: 0.49 米\n",
      "管道 3-2: -4.01 米\n",
      "管道 2-5: 1.40 米\n",
      "总水头损失: 0.46 米\n",
      "调整流量 dq: -0.25 L/s\n"
     ]
    }
   ],
   "source": [
    "## 000\n",
    "\n",
    "def water_head_loss(q, l, D):\n",
    "    \"\"\"\n",
    "    计算水头损失\n",
    "    :param q: 流量 (m^3/s)\n",
    "    :param l: 管长 (m)\n",
    "    :param D: 管径 (m)\n",
    "    :return: 水头损失 (m)\n",
    "    \"\"\"\n",
    "    return 10.67 * q**1.852 * l / (100**1.852 * D**4.87)\n",
    "\n",
    "def pipe_resistance(l, D):\n",
    "    \"\"\"\n",
    "    计算管道阻力\n",
    "    :param l: 管长 (m)\n",
    "    :param D: 管径 (m)\n",
    "    :return: 管道阻力\n",
    "    \"\"\"\n",
    "    return 10.67 * l / (100**1.852 * D**4.87)\n",
    "\n",
    "# 环1和环2的基本信息\n",
    "loops_info = {\n",
    "    1: [('4-5', 756, 0.3), ('5-2', 820, 0.2), ('2-1', 756, 0.1), ('1-4', 820, 0.5)],\n",
    "    2: [('5-6', 756, 0.2), ('6-3', 820, 0.1), ('3-2', 756, 0.15), ('2-5', 820, 0.2)]\n",
    "}\n",
    "\n",
    "# 获取用户输入\n",
    "loop_number = int(input(\"请输入计算的环编号 (1 或 2): \"))\n",
    "flows = input(\"请顺时针输入各个管道的流量 (L/s)，使用逗号分隔: \").split(',')\n",
    "signs = input(\"请按顺序输入四条管道水头损失的正负，1表示正，0表示负，使用逗号分隔: \").split(',')\n",
    "\n",
    "# 确保输入流量与环中管道数量匹配\n",
    "assert len(flows) == len(loops_info[loop_number]), \"流量输入数量与管道数量不匹配。\"\n",
    "assert len(signs) == len(loops_info[loop_number]), \"水头损失正负号数量与管道数量不匹配。\"\n",
    "\n",
    "# 计算并输出每条管道的水头损失，以及总的水头损失\n",
    "total_loss = 0\n",
    "resistances = []\n",
    "print(\"每条管道的水头损失:\")\n",
    "for (pipe, l, D), q_l_s, sign in zip(loops_info[loop_number], map(float, flows), map(int, signs)):\n",
    "    q_m3_s = q_l_s / 1000  # 将流量从L/s转换为m^3/s\n",
    "    loss = water_head_loss(q_m3_s, l, D)\n",
    "    if sign == 0:\n",
    "        loss = -loss\n",
    "    total_loss += loss\n",
    "    resistance = pipe_resistance(l, D)\n",
    "    resistances.append(abs(resistance * abs(q_m3_s)**0.852))\n",
    "    print(f\"管道 {pipe}: {loss:.2f} 米\")\n",
    "\n",
    "print(f\"总水头损失: {total_loss:.2f} 米\")\n",
    "\n",
    "# 计算调整流量 dq\n",
    "sum_resistances = sum(resistances)\n",
    "dq = -total_loss / (1.852 * sum_resistances)\n",
    "dq_l_s = dq * 1000  # 将m^3/s转换为L/s\n",
    "print(f\"调整流量 dq: {dq_l_s:.2f} L/s\")"
   ]
  }
 ],
 "metadata": {
  "kernelspec": {
   "display_name": "base",
   "language": "python",
   "name": "python3"
  },
  "language_info": {
   "codemirror_mode": {
    "name": "ipython",
    "version": 3
   },
   "file_extension": ".py",
   "mimetype": "text/x-python",
   "name": "python",
   "nbconvert_exporter": "python",
   "pygments_lexer": "ipython3",
   "version": "3.9.12"
  }
 },
 "nbformat": 4,
 "nbformat_minor": 2
}
